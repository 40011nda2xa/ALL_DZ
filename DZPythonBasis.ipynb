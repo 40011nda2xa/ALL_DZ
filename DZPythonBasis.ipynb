{
 "cells": [
  {
   "cell_type": "markdown",
   "metadata": {},
   "source": [
    " ЗАДАНИЕ №1"
   ]
  },
  {
   "cell_type": "code",
   "execution_count": 3,
   "metadata": {},
   "outputs": [
    {
     "name": "stdout",
     "output_type": "stream",
     "text": [
      "Введите предложение №1: фвпфф\n",
      "Введите предложение №2: фвпвпфпфпфпфп\n",
      "Предложение N1 короче чем №2\n",
      "Программа завершена\n"
     ]
    }
   ],
   "source": [
    "#ввод предложений\n",
    "str1=(input('Введите предложение №1: '))\n",
    "str2=(input('Введите предложение №2: '))\n",
    "# определение длины предложений\n",
    "len1=(len(str1))\n",
    "len2=(len(str2))\n",
    "#условия для сравнения\n",
    "if len1>len2:\n",
    "    print (\"Предложение N1 длиннее чем N2\")\n",
    "    print (\"Программа завершена\")\n",
    "elif len1<len2:\n",
    "    print (\"Предложение N1 короче чем №2\")\n",
    "    print (\"Программа завершена\")\n",
    "else:\n",
    "    print (\"Предложение одинаковы по длине\")\n",
    "    print (\"Программа завершена\")"
   ]
  },
  {
   "cell_type": "markdown",
   "metadata": {},
   "source": [
    " ЗАДАНИЕ №2"
   ]
  },
  {
   "cell_type": "code",
   "execution_count": 2,
   "metadata": {},
   "outputs": [
    {
     "name": "stdout",
     "output_type": "stream",
     "text": [
      "Введите год: 1985\n",
      "Год НЕ високосный\n"
     ]
    }
   ],
   "source": [
    "#високосный год делится на 4 без остатка\n",
    "year=(input(\"Введите год: \"))  \n",
    "# задать целочисленную переменную\n",
    "x=int(year)\n",
    "if x%4==0:\n",
    "    print(\"Это успех, год високосный\")\n",
    "else:\n",
    "    print(\"Год НЕ високосный\")"
   ]
  },
  {
   "cell_type": "markdown",
   "metadata": {},
   "source": [
    "ЗАДАНИЕ №3"
   ]
  },
  {
   "cell_type": "code",
   "execution_count": 4,
   "metadata": {},
   "outputs": [
    {
     "name": "stdout",
     "output_type": "stream",
     "text": [
      "Введите день рождения: 13\n",
      "Введите месяц рождения: 2\n",
      "Вы - Водолей\n"
     ]
    }
   ],
   "source": [
    "d=int(input('Введите день рождения: '))\n",
    "m=int(input('Введите месяц рождения: '))\n",
    "if (d>=22 and d<=31 and m==12) or ( m==1 and d>=1 and d<=20):\n",
    "    print(\"Вы - Козерог\")\n",
    "elif (d>=21 and d<=31 and m==1) or ( m==2 and d>=1 and d<=18):\n",
    "    print(\"Вы - Водолей\")\n",
    "elif (d>=19 and d<=29 and m==2) or ( m==3 and d>=1 and d<=20):\n",
    "    print(\"Вы - Рыбы\")\n",
    "elif (d>=21 and d<=31 and m==3) or ( m==4 and d>=1 and d<=19):\n",
    "    print(\"Вы -Овен\")\n",
    "elif (d>=20 and d<=30 and m==4) or ( m==5 and d>=1 and d<=20):\n",
    "    print(\"Вы - Телец\")\n",
    "elif (d>=21 and d<=31 and m==5) or ( m==6 and d>=1 and d<=21):\n",
    "    print(\"Вы - Близнецы\")\n",
    "elif (d>=22 and d<=30 and m==6) or ( m==7 and d>=1 and d<=22):\n",
    "    print(\"Вы - Рак\")\n",
    "elif (d>=23 and d<=31 and m==7) or ( m==8 and d>=1 and d<=22):\n",
    "    print(\"Вы - Лев\")\n",
    "elif (d>=23 and d<=31 and m==8) or ( m==9 and d>=1 and d<=22):\n",
    "    print(\"Вы -Дева\")\n",
    "elif (d>=23 and d<=30 and m==9) or ( m==10 and d>=1 and d<=23):\n",
    "    print(\"Вы - Весы\")\n",
    "elif (d>=24 and d<=31 and m==10) or ( m==11 and d>=1 and d<=22):\n",
    "    print(\"Вы - Скорпион\")\n",
    "elif (d>=23 and d<=30 and m==11) or ( m==12 and d>=1 and d<=21):\n",
    "    print(\"Вы - Стрелец\")"
   ]
  },
  {
   "cell_type": "code",
   "execution_count": 8,
   "metadata": {},
   "outputs": [
    {
     "name": "stdout",
     "output_type": "stream",
     "text": [
      "Введите ширину: 13\n",
      "Введите длину: 2001\n",
      "Введите высоту: 13\n",
      "Упаковка для лыж\n",
      "Программа завершена\n"
     ]
    }
   ],
   "source": [
    "w=int(input('Введите ширину: '))\n",
    "l=int(input('Введите длину: '))\n",
    "h=int(input('Введите высоту: '))\n",
    "p=15\n",
    "v=50\n",
    "g=2000\n",
    "if (w<p and l<p and h<p):\n",
    "    print (\"Коробка №1\")\n",
    "elif (w>p and l>p and h>p and w<v and l<v and h<v):\n",
    "    print (\"Коробка №2\")\n",
    "elif (l>g):    \n",
    "    print (\"Упаковка для лыж\")\n",
    "else:\n",
    "    print (\"Стандартная коробка №3\")\n",
    "print (\"Программа завершена\")"
   ]
  }
 ],
 "metadata": {
  "kernelspec": {
   "display_name": "Python 3",
   "language": "python",
   "name": "python3"
  },
  "language_info": {
   "codemirror_mode": {
    "name": "ipython",
    "version": 3
   },
   "file_extension": ".py",
   "mimetype": "text/x-python",
   "name": "python",
   "nbconvert_exporter": "python",
   "pygments_lexer": "ipython3",
   "version": "3.8.3"
  }
 },
 "nbformat": 4,
 "nbformat_minor": 4
}
