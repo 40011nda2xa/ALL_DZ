{
 "cells": [
  {
   "cell_type": "markdown",
   "metadata": {},
   "source": [
    "ЗАДАНИЕ №1"
   ]
  },
  {
   "cell_type": "code",
   "execution_count": 1,
   "metadata": {
    "scrolled": true
   },
   "outputs": [
    {
     "name": "stdout",
     "output_type": "stream",
     "text": [
      "Введите слово: вап\n",
      "а\n"
     ]
    }
   ],
   "source": [
    "ent1 = input('Введите слово: ')\n",
    "dlna1 = len(ent1)\n",
    "rez1 = dlna1 / 2\n",
    "if dlna1 % 2 == 0:\n",
    "    print(ent1[int(rez1)-1:int(rez1)+1])\n",
    "elif dlna1 % 2 !=0:\n",
    "    print(ent1[int(rez1)])"
   ]
  },
  {
   "cell_type": "markdown",
   "metadata": {},
   "source": [
    "ЗАДАНИЕ №2"
   ]
  },
  {
   "cell_type": "code",
   "execution_count": 1,
   "metadata": {},
   "outputs": [
    {
     "name": "stdout",
     "output_type": "stream",
     "text": [
      "Введите число: 2\n",
      "Ещё введите число: 3\n",
      "Ещё введите число: 4\n",
      "Ещё введите число: 0\n",
      "Общая сумма:  9\n"
     ]
    }
   ],
   "source": [
    "ent1= int(input('Введите число: '))\n",
    "summa1=0\n",
    "while ent1!= 0:\n",
    "    summa1+=ent1\n",
    "    ent1= int(input('Ещё введите число: '))\n",
    "print('Общая сумма: ',(summa1))"
   ]
  },
  {
   "cell_type": "markdown",
   "metadata": {},
   "source": [
    "ЗАДАНИЕ №3"
   ]
  },
  {
   "cell_type": "code",
   "execution_count": 10,
   "metadata": {},
   "outputs": [
    {
     "name": "stdout",
     "output_type": "stream",
     "text": [
      "Fedya и Anna\n",
      "Kolya и Katya\n",
      "Petya и Lena\n",
      "Vasya и Natasha\n",
      "!!!!!!!PARA NE VSEM!!!!!!!\n",
      "<<<<<<<znakomstva zaversheny>>>>>>>\n"
     ]
    }
   ],
   "source": [
    "# теперь понял for )))\n",
    "\n",
    "\n",
    "b=('Petya','Fedya','Kolya','Vasya')\n",
    "g=('Lena','Katya','Natasha','Olya','Anna')\n",
    "sb=sorted(b)\n",
    "sg=sorted(g)\n",
    "n=0\n",
    "for i in sb:\n",
    "    print(' и '.join([sb[n], sg[n]]))\n",
    "    n+=1\n",
    "if len(g)!=len(b):\n",
    "    print('!!!!!!!PARA NE VSEM!!!!!!!')\n",
    "print('<<<<<<<znakomstva zaversheny>>>>>>>')"
   ]
  },
  {
   "cell_type": "markdown",
   "metadata": {},
   "source": [
    "ЗАДАНИЕ №4"
   ]
  },
  {
   "cell_type": "code",
   "execution_count": 12,
   "metadata": {},
   "outputs": [
    {
     "name": "stdout",
     "output_type": "stream",
     "text": [
      "Thailand :  25.8 градусов по C°\n",
      "Germany :  14.9 градусов по C°\n",
      "Russia :  4.0 градусов по C°\n",
      "Poland :  13.0 градусов по C°\n",
      "<<<расчеты завершены>>>\n"
     ]
    }
   ],
   "source": [
    "ct=[['Thailand', [75.2, 77, 78.8, 73.4, 68, 75.2, 77]],\n",
    "['Germany', [57.2, 55.4, 59, 59, 53.6]],\n",
    "['Russia', [35.6, 37.4, 39.2, 41, 42.8, 39.2, 35.6]],\n",
    "['Poland', [50, 50, 53.6, 57.2, 55.4, 55.4]]]\n",
    "n=0\n",
    "q=0\n",
    "l=1\n",
    "for i in ct:\n",
    "    print(ct[n][q],': ',float('{:.1f}'.format((((sum(ct[n][l])/len(ct[n][l]))-32)*0.6))),'градусов по C°')\n",
    "    n+=1\n",
    "print('<<<расчеты завершены>>>')"
   ]
  }
 ],
 "metadata": {
  "kernelspec": {
   "display_name": "Python 3",
   "language": "python",
   "name": "python3"
  },
  "language_info": {
   "codemirror_mode": {
    "name": "ipython",
    "version": 3
   },
   "file_extension": ".py",
   "mimetype": "text/x-python",
   "name": "python",
   "nbconvert_exporter": "python",
   "pygments_lexer": "ipython3",
   "version": "3.8.3"
  }
 },
 "nbformat": 4,
 "nbformat_minor": 4
}
