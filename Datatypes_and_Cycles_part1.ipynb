{
 "cells": [
  {
   "cell_type": "markdown",
   "metadata": {},
   "source": [
    "ЗАДАНИЕ №1"
   ]
  },
  {
   "cell_type": "code",
   "execution_count": 2,
   "metadata": {},
   "outputs": [
    {
     "name": "stdout",
     "output_type": "stream",
     "text": [
      "Введите слово: кукушка\n",
      "у\n"
     ]
    }
   ],
   "source": [
    "ent1 = input('Введите слово: ')\n",
    "dlna1 = len(ent1)\n",
    "rez1 = dlna1 / 2\n",
    "if dlna1 % 2 == 0:\n",
    "    print(ent1[int(rez1)-1:int(rez1)+1])\n",
    "elif dlna1 % 2 !=0:\n",
    "    print(ent1[int(rez1)])"
   ]
  },
  {
   "cell_type": "markdown",
   "metadata": {},
   "source": [
    "ЗАДАНИЕ №2"
   ]
  },
  {
   "cell_type": "code",
   "execution_count": 1,
   "metadata": {},
   "outputs": [
    {
     "name": "stdout",
     "output_type": "stream",
     "text": [
      "Введите число: 2\n",
      "Ещё введите число: 3\n",
      "Ещё введите число: 4\n",
      "Ещё введите число: 0\n",
      "Общая сумма:  9\n"
     ]
    }
   ],
   "source": [
    "ent1= int(input('Введите число: '))\n",
    "summa1=0\n",
    "while ent1!= 0:\n",
    "    summa1+=ent1\n",
    "    ent1= int(input('Ещё введите число: '))\n",
    "print('Общая сумма: ',(summa1))"
   ]
  },
  {
   "cell_type": "markdown",
   "metadata": {},
   "source": [
    "ЗАДАНИЕ №3 Честно говоря недопонял задание, о чем оно? Осортировать список, и вывести а если количество большое и неизвестное нам? то как вывод делать? Или как то можно индекс принта задавать через цикл и условие? И вообще не понял фразу из задания: \"Но мы не будем никого знакомить, если кто-то может остаться без пары\""
   ]
  },
  {
   "cell_type": "code",
   "execution_count": 38,
   "metadata": {},
   "outputs": [
    {
     "name": "stdout",
     "output_type": "stream",
     "text": [
      "Alex и Emma\n",
      "Arthur и Kate\n",
      "John и Kira\n",
      "Peter и Liza\n",
      "Richard и Trisha\n"
     ]
    }
   ],
   "source": [
    "boys=['Peter','Alex','John','Arthur','Richard']\n",
    "boys_sort=sorted(boys)\n",
    "girls=['Kate','Liza','Kira','Emma','Trisha']\n",
    "girls_sort=sorted(girls)\n",
    "print(' и '.join([boys_sort[0], girls_sort[0]]))\n",
    "print(' и '.join([boys_sort[1], girls_sort[1]]))\n",
    "print(' и '.join([boys_sort[2], girls_sort[2]]))\n",
    "print(' и '.join([boys_sort[3], girls_sort[3]]))\n",
    "print(' и '.join([boys_sort[4], girls_sort[4]]))"
   ]
  },
  {
   "cell_type": "markdown",
   "metadata": {},
   "source": [
    "ЗАДАНИЕ №4 я так понимаю что по условию индексы в ручную считаются....неужели нет способа атоматически присваивать как то значения индекса переменным??? Как разбирать список если он большой? Чувствую что очень топорно сделал но не пойму почему."
   ]
  },
  {
   "cell_type": "code",
   "execution_count": 64,
   "metadata": {},
   "outputs": [
    {
     "name": "stdout",
     "output_type": "stream",
     "text": [
      "Thailand - 74.9 C\n",
      "Germany - 56.8 C\n",
      "Russia - 38.7 C\n",
      "Poland - 53.6 C\n"
     ]
    }
   ],
   "source": [
    "countries_temperature = [['Thailand', [75.2, 77, 78.8, 73.4, 68, 75.2, 77]],\n",
    "['Germany', [57.2, 55.4, 59, 59, 53.6]],\n",
    "['Russia', [35.6, 37.4, 39.2, 41, 42.8, 39.2, 35.6]],\n",
    "['Poland', [50, 50, 53.6, 57.2, 55.4, 55.4]]]\n",
    "#print(type(countries_temperature))\n",
    "tha=(countries_temperature[0])\n",
    "ger=(countries_temperature[1])\n",
    "rus=(countries_temperature[2])\n",
    "pol=(countries_temperature[3])\n",
    "#print(type(tha))\n",
    "tha_cont=(tha[0])\n",
    "tha_tem=(tha[1])\n",
    "ger_cont=(ger[0])\n",
    "ger_tem=(ger[1])\n",
    "rus_cont=(rus[0])\n",
    "rus_tem=(rus[1])\n",
    "pol_cont=(pol[0])\n",
    "pol_tem=(pol[1])\n",
    "tha_midtem=sum(tha_tem)/len(tha_tem)\n",
    "#нашел в гугле как ограничить знаки\n",
    "tha_midtem = float('{:.1f}'.format(tha_midtem))\n",
    "ger_midtem=sum(ger_tem)/len(ger_tem)\n",
    "ger_midtem = float('{:.1f}'.format(ger_midtem))\n",
    "rus_midtem=sum(rus_tem)/len(rus_tem)\n",
    "rus_midtem = float('{:.1f}'.format(rus_midtem))\n",
    "pol_midtem=sum(pol_tem)/len(pol_tem)\n",
    "pol_midtem = float('{:.1f}'.format(pol_midtem))\n",
    "print('Thailand -',(tha_midtem),'C')\n",
    "print('Germany -',(ger_midtem),'C')\n",
    "print('Russia -',(rus_midtem),'C')\n",
    "print('Poland -',(pol_midtem),'C')"
   ]
  }
 ],
 "metadata": {
  "kernelspec": {
   "display_name": "Python 3",
   "language": "python",
   "name": "python3"
  },
  "language_info": {
   "codemirror_mode": {
    "name": "ipython",
    "version": 3
   },
   "file_extension": ".py",
   "mimetype": "text/x-python",
   "name": "python",
   "nbconvert_exporter": "python",
   "pygments_lexer": "ipython3",
   "version": "3.8.3"
  }
 },
 "nbformat": 4,
 "nbformat_minor": 4
}
