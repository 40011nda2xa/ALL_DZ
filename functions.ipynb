{
 "cells": [
  {
   "cell_type": "markdown",
   "metadata": {},
   "source": [
    "Задаение №1"
   ]
  },
  {
   "cell_type": "code",
   "execution_count": 3,
   "metadata": {},
   "outputs": [
    {
     "name": "stdout",
     "output_type": "stream",
     "text": [
      "\n",
      " Доступна команда: p \n",
      " p\n",
      "Введите номер документа:10006\n",
      "Аристарх Павлов\n"
     ]
    }
   ],
   "source": [
    "documents = [\n",
    "{'type': 'passport', 'number': '2207 876234', 'name': 'Василий Гупкин'},\n",
    "{'type': 'invoice', 'number': '11-2', 'name': 'Геннадий Покемонов'},\n",
    "{'type': 'insurance', 'number': '10006', 'name': 'Аристарх Павлов'}]\n",
    "\n",
    "def docs(number):\n",
    "  for doc_num in documents:\n",
    "    if doc_num[\"number\"] == number:\n",
    "      print(doc_num[\"name\"])\n",
    "      break\n",
    "  else:\n",
    "    print('Такого документа нет в базе.')\n",
    "\n",
    "comm = input('\\n \\\n",
    "Доступна команда: p \\n \\\n",
    "')\n",
    "if comm == 'p':\n",
    "    docs(input('Введите номер документа:'))\n",
    "else:\n",
    "    print('Нет такой команды, повторите ввод!')"
   ]
  },
  {
   "cell_type": "markdown",
   "metadata": {},
   "source": [
    "Задание №2"
   ]
  },
  {
   "cell_type": "code",
   "execution_count": 4,
   "metadata": {},
   "outputs": [
    {
     "name": "stdout",
     "output_type": "stream",
     "text": [
      "\n",
      " Доступна команда: s\n",
      " s\n",
      "Введите номер документа:3423423423423\n",
      "Такого документа нет в базе!\n"
     ]
    }
   ],
   "source": [
    "directories = {\n",
    "'1': ['2207 876234', '11-2'],\n",
    "'2': ['10006'],\n",
    "'3': []\n",
    "}\n",
    "\n",
    "def shelf(number):\n",
    "    break_def = False\n",
    "    for sh in directories.items():\n",
    "        for doc_num in sh[1]:\n",
    "            if doc_num == number:\n",
    "                print ('Документ на полке:', sh[0])\n",
    "                break_def = True\n",
    "                break\n",
    "        if break_def == True:\n",
    "            break\n",
    "    else:\n",
    "        print('Такого документа нет в базе!')\n",
    "\n",
    "comm = input('\\n \\\n",
    "Доступна команда: s\\n \\\n",
    "')\n",
    "if comm == 's':\n",
    "    shelf(input('Введите номер документа:'))\n",
    "else:\n",
    "    print('Нет такой команды, повторите ввод!')"
   ]
  },
  {
   "cell_type": "markdown",
   "metadata": {},
   "source": [
    "Задание №3"
   ]
  },
  {
   "cell_type": "code",
   "execution_count": 5,
   "metadata": {
    "scrolled": true
   },
   "outputs": [
    {
     "name": "stdout",
     "output_type": "stream",
     "text": [
      "\n",
      " Доступна команда: l\n",
      " l\n",
      "№: 2207 876234 Тип: passport Владелец: Василий Гупкин\n",
      "№: 11-2 Тип: invoice Владелец: Геннадий Покемонов\n",
      "№: 10006 Тип: insurance Владелец: Аристарх Павлов\n"
     ]
    }
   ],
   "source": [
    "documents = [\n",
    "{'type': 'passport', 'number': '2207 876234', 'name': 'Василий Гупкин'},\n",
    "{'type': 'invoice', 'number': '11-2', 'name': 'Геннадий Покемонов'},\n",
    "{'type': 'insurance', 'number': '10006', 'name': 'Аристарх Павлов'}\n",
    "]\n",
    "directories = {\n",
    "'1': ['2207 876234', '11-2'],\n",
    "'2': ['10006'],\n",
    "'3': []\n",
    "}\n",
    "\n",
    "def list_all():\n",
    "    for l in documents:\n",
    "        type_all = l['type']\n",
    "        number_all = l['number']\n",
    "        name_all = l['name']\n",
    "        print('№: ''{1}'' Тип: ''{0}'' Владелец: ''{2}'''.format(type_all, number_all, name_all))\n",
    "\n",
    "comm = input('\\n \\\n",
    "Доступна команда: l\\n \\\n",
    "')\n",
    "if comm == 'l':\n",
    "    list_all()\n",
    "else:\n",
    "    print('Нет такой команды, повторите ввод!')"
   ]
  },
  {
   "cell_type": "code",
   "execution_count": null,
   "metadata": {},
   "outputs": [],
   "source": [
    "задание № 4     НЕ ПОНИМАЮ ПОЧЕМУ ВЫДАЁТ СИНТАКСИЧЕСКУЮ ОШИБКУ НА ELSE (пробелы удалял, табы менял, убил часа 3)"
   ]
  },
  {
   "cell_type": "code",
   "execution_count": 16,
   "metadata": {},
   "outputs": [
    {
     "ename": "SyntaxError",
     "evalue": "invalid syntax (<ipython-input-16-7a140f8e5a4f>, line 11)",
     "output_type": "error",
     "traceback": [
      "\u001b[1;36m  File \u001b[1;32m\"<ipython-input-16-7a140f8e5a4f>\"\u001b[1;36m, line \u001b[1;32m11\u001b[0m\n\u001b[1;33m    else:\u001b[0m\n\u001b[1;37m    ^\u001b[0m\n\u001b[1;31mSyntaxError\u001b[0m\u001b[1;31m:\u001b[0m invalid syntax\n"
     ]
    }
   ],
   "source": [
    "directories = {\n",
    "'1': ['2207 876234', '11-2'],\n",
    "'2': ['10006'],\n",
    "'3': []\n",
    "}\n",
    "\n",
    "def add_sh():\n",
    "    for num_sh in directories.items():\n",
    "        if add_sh in num_sh[0]:\n",
    "            print('Такая полка уже существует. Текущий перечень полок: ', list(directories.keys())\n",
    "        else:\n",
    "            directories[add_sh] = []\n",
    "            print('Полка добавлена. Текущий перечень полок: ', list(directories.keys())\n",
    "        \n",
    "comm = input('\\n \\\n",
    "Доступна команда: as\\n \\\n",
    "')\n",
    "if comm == 'as':\n",
    "    add_sh = input('Добавьте номер полки: ')\n",
    "else:\n",
    "    print('Нет такой команды, повторите ввод!')\n"
   ]
  },
  {
   "cell_type": "code",
   "execution_count": null,
   "metadata": {},
   "outputs": [],
   "source": []
  }
 ],
 "metadata": {
  "kernelspec": {
   "display_name": "Python 3",
   "language": "python",
   "name": "python3"
  },
  "language_info": {
   "codemirror_mode": {
    "name": "ipython",
    "version": 3
   },
   "file_extension": ".py",
   "mimetype": "text/x-python",
   "name": "python",
   "nbconvert_exporter": "python",
   "pygments_lexer": "ipython3",
   "version": "3.8.3"
  }
 },
 "nbformat": 4,
 "nbformat_minor": 4
}
